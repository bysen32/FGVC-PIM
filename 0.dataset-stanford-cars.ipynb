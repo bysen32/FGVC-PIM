{
 "cells": [
  {
   "cell_type": "markdown",
   "metadata": {},
   "source": [
    "# Stanford Cars 数据集预处理\n",
    "\n",
    "数据集树形结构\n",
    "```\n",
    "./datasets/\n",
    "    stanford_cars/\n",
    "        cars_train.tgz\n",
    "        cars_train/*.jpg\n",
    "        cars_test.tgz\n",
    "        cars_test/*.jpg\n",
    "\n",
    "        car_devkit.tgz\n",
    "        devkit/\n",
    "            cars_meta.mat\n",
    "            cars_test_annos.mat\n",
    "            cars_train_annos.mat\n",
    "\n",
    "        cars_annos.mat\n",
    "        cars_test_annos_withlabels.mat\n",
    "\n",
    "        train/\n",
    "        test/\n",
    "```"
   ]
  },
  {
   "cell_type": "code",
   "execution_count": null,
   "metadata": {},
   "outputs": [],
   "source": [
    "import os\n",
    "from os.path import join\n",
    "\n",
    "# 数据集下载相关常量\n",
    "DOWNLOAD_URL_PREFIX = 'http://ai.stanford.edu/~jkrause/car196'\n",
    "\n",
    "DATASET_ROOT = \"./datasets/\"\n",
    "DATASET_NAME = \"stanford_cars\"\n",
    "DATASET_PATH = join(DATASET_ROOT, DATASET_NAME)"
   ]
  },
  {
   "cell_type": "markdown",
   "metadata": {},
   "source": [
    "## 1. 数据集下载与解压"
   ]
  },
  {
   "cell_type": "code",
   "execution_count": null,
   "metadata": {},
   "outputs": [],
   "source": [
    "from torchvision.datasets.utils import download_url, list_dir, list_files\n",
    "import tarfile\n",
    "\n",
    "for fname in [\"cars_annos.mat\", \"cars_test_annos_withlabels.mat\"]:\n",
    "    fpath = join(DATASET_PATH, fname)\n",
    "    if not os.path.exists(fpath):\n",
    "        url = DOWNLOAD_URL_PREFIX + \"/\" +  fname\n",
    "        download_url(url, DATASET_PATH, fname, None)\n",
    "\n",
    "download_flag = False\n",
    "for tar_filename in ['cars_train.tgz', 'cars_test.tgz', 'car_devkit.tgz']:\n",
    "    tar_file_path = join(DATASET_PATH, tar_filename)\n",
    "    if not os.path.exists(tar_file_path):\n",
    "        url = DOWNLOAD_URL_PREFIX + '/' + tar_filename\n",
    "        download_url(url, DATASET_PATH, tar_filename, None)\n",
    "        print('Extracting downloaded file: ' + tar_file_path)\n",
    "        download_flag = True\n",
    "\n",
    "if download_flag:\n",
    "    with tarfile.open(tar_file_path, 'r') as tar_file:\n",
    "        tar_file.extractall(DATASET_PATH)\n"
   ]
  },
  {
   "cell_type": "markdown",
   "metadata": {},
   "source": [
    "## 2. 训练集 与 测试集 分割"
   ]
  },
  {
   "cell_type": "code",
   "execution_count": null,
   "metadata": {},
   "outputs": [],
   "source": [
    "import scipy.io\n",
    "import shutil\n",
    "import os\n",
    "from os.path import join\n",
    "\n",
    "data = scipy.io.loadmat(join(DATASET_PATH, 'devkit/cars_meta.mat'))\n",
    "class_names = data['class_names']\n",
    "\n",
    "label_names = ['',]\n",
    "for i in range(class_names.shape[1]):\n",
    "    cname = str(class_names[0,i][0]).replace(' ', '_')\n",
    "    label_names.append(cname)\n",
    "\n",
    "stage2file = {\n",
    "    \"train\" : \"devkit/cars_train_annos.mat\",\n",
    "    \"test\" : \"cars_test_annos_withlabels.mat\"\n",
    "}\n",
    "\n",
    "for stage, file in stage2file.items():\n",
    "    file = join(DATASET_PATH, file)\n",
    "    data = scipy.io.loadmat(file)[\"annotations\"]\n",
    "    for i in range(data.shape[1]):\n",
    "        id = int(data[0,i][4])\n",
    "        fname = data[0,i][5][0]\n",
    "        folder_path = join(DATASET_PATH, stage, label_names[id])\n",
    "        if not os.path.isdir(folder_path):\n",
    "            os.makedirs(folder_path)\n",
    "        file1 = join(DATASET_PATH, \"cars_\"+stage, fname)\n",
    "        file2 = join(folder_path, fname)\n",
    "        shutil.copy(file1, file2)\n",
    "    print(\"%s : %s files\" %(stage, data.shape[1]))\n",
    "\n"
   ]
  }
 ],
 "metadata": {
  "interpreter": {
   "hash": "4a5b314f07aa0d4f663e203b3e69440534a163bbc46a9857c85f54faef45d0d1"
  },
  "kernelspec": {
   "display_name": "Python 3.9.7 ('pytorch')",
   "language": "python",
   "name": "python3"
  },
  "language_info": {
   "codemirror_mode": {
    "name": "ipython",
    "version": 3
   },
   "file_extension": ".py",
   "mimetype": "text/x-python",
   "name": "python",
   "nbconvert_exporter": "python",
   "pygments_lexer": "ipython3",
   "version": "3.9.7"
  },
  "orig_nbformat": 4
 },
 "nbformat": 4,
 "nbformat_minor": 2
}
